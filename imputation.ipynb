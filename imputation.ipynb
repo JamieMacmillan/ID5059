{
 "cells": [
  {
   "cell_type": "code",
   "execution_count": 1,
   "metadata": {
    "collapsed": true
   },
   "outputs": [],
   "source": [
    "import pandas as pd\n",
    "import numpy as np"
   ]
  },
  {
   "cell_type": "code",
   "execution_count": 22,
   "outputs": [],
   "source": [
    "df = pd.read_csv(\"data/train.csv\")\n",
    "pd.options.mode.chained_assignment = None\n",
    "df_miss = df.copy()\n",
    "\n",
    "# df.head()"
   ],
   "metadata": {
    "collapsed": false
   }
  },
  {
   "cell_type": "code",
   "execution_count": 23,
   "outputs": [],
   "source": [
    "np.random.seed(42)\n",
    "\n",
    "row_count = df_miss.shape[0]\n",
    "\n",
    "chosen_idx1 = list(np.random.choice(row_count, replace=False, size=round(row_count*0.12)))\n",
    "chosen_idx2 = list(np.random.choice(row_count, replace=False, size=round(row_count*0.03)))\n",
    "chosen_idx3 = list(np.random.choice(row_count, replace=False, size=round(row_count*0.23)))\n",
    "\n",
    "df_miss[\"Hepatomegaly\"].iloc[chosen_idx1] = None\n",
    "df_miss[\"Cholesterol\"].iloc[chosen_idx2] = None\n",
    "df_miss[\"Copper\"].iloc[chosen_idx3] = None"
   ],
   "metadata": {
    "collapsed": false
   }
  },
  {
   "cell_type": "code",
   "execution_count": null,
   "outputs": [],
   "source": [
    "df_miss.isna().sum()"
   ],
   "metadata": {
    "collapsed": false,
    "pycharm": {
     "is_executing": true
    }
   }
  },
  {
   "cell_type": "code",
   "execution_count": 29,
   "outputs": [],
   "source": [
    "df_imp1 = df_miss.copy()\n",
    "df_imp2 = df_miss.copy()\n",
    "df_imp3 = df_miss.copy()"
   ],
   "metadata": {
    "collapsed": false
   }
  },
  {
   "cell_type": "code",
   "execution_count": null,
   "outputs": [],
   "source": [
    "df_imp1[\"Hepatomegaly\"] = df_imp1[\"Hepatomegaly\"].fillna(df_imp1[\"Hepatomegaly\"].mode().iat[0])\n",
    "df_imp1[\"Cholesterol\"] = df_imp1[\"Cholesterol\"].fillna(df_imp1[\"Cholesterol\"].mean())\n",
    "df_imp1[\"Copper\"] = df_imp1[\"Copper\"].fillna(df_imp1[\"Copper\"].mean())\n",
    "\n",
    "df_imp1.isna().sum()"
   ],
   "metadata": {
    "collapsed": false,
    "pycharm": {
     "is_executing": true
    }
   }
  }
 ],
 "metadata": {
  "kernelspec": {
   "display_name": "Python 3",
   "language": "python",
   "name": "python3"
  },
  "language_info": {
   "codemirror_mode": {
    "name": "ipython",
    "version": 2
   },
   "file_extension": ".py",
   "mimetype": "text/x-python",
   "name": "python",
   "nbconvert_exporter": "python",
   "pygments_lexer": "ipython2",
   "version": "2.7.6"
  }
 },
 "nbformat": 4,
 "nbformat_minor": 0
}

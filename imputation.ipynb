{
 "cells": [
  {
   "cell_type": "code",
   "execution_count": 1,
   "metadata": {
    "collapsed": true
   },
   "outputs": [],
   "source": [
    "import pandas as pd\n",
    "import numpy as np"
   ]
  },
  {
   "cell_type": "code",
   "execution_count": 4,
   "outputs": [
    {
     "data": {
      "text/plain": "   id  N_Days             Drug    Age Sex Ascites Hepatomegaly Spiders Edema  \\\n0   0     999  D-penicillamine  21532   M       N            N       N     N   \n1   1    2574          Placebo  19237   F       N            N       N     N   \n2   2    3428          Placebo  13727   F       N            Y       Y     Y   \n3   3    2576          Placebo  18460   F       N            N       N     N   \n4   4     788          Placebo  16658   F       N            Y       N     N   \n\n   Bilirubin  Cholesterol  Albumin  Copper  Alk_Phos    SGOT  Tryglicerides  \\\n0        2.3        316.0     3.35   172.0    1601.0  179.80           63.0   \n1        0.9        364.0     3.54    63.0    1440.0  134.85           88.0   \n2        3.3        299.0     3.55   131.0    1029.0  119.35           50.0   \n3        0.6        256.0     3.50    58.0    1653.0   71.30           96.0   \n4        1.1        346.0     3.65    63.0    1181.0  125.55           96.0   \n\n   Platelets  Prothrombin  Stage Status  \n0      394.0          9.7    3.0      D  \n1      361.0         11.0    3.0      C  \n2      199.0         11.7    4.0      D  \n3      269.0         10.7    3.0      C  \n4      298.0         10.6    4.0      C  ",
      "text/html": "<div>\n<style scoped>\n    .dataframe tbody tr th:only-of-type {\n        vertical-align: middle;\n    }\n\n    .dataframe tbody tr th {\n        vertical-align: top;\n    }\n\n    .dataframe thead th {\n        text-align: right;\n    }\n</style>\n<table border=\"1\" class=\"dataframe\">\n  <thead>\n    <tr style=\"text-align: right;\">\n      <th></th>\n      <th>id</th>\n      <th>N_Days</th>\n      <th>Drug</th>\n      <th>Age</th>\n      <th>Sex</th>\n      <th>Ascites</th>\n      <th>Hepatomegaly</th>\n      <th>Spiders</th>\n      <th>Edema</th>\n      <th>Bilirubin</th>\n      <th>Cholesterol</th>\n      <th>Albumin</th>\n      <th>Copper</th>\n      <th>Alk_Phos</th>\n      <th>SGOT</th>\n      <th>Tryglicerides</th>\n      <th>Platelets</th>\n      <th>Prothrombin</th>\n      <th>Stage</th>\n      <th>Status</th>\n    </tr>\n  </thead>\n  <tbody>\n    <tr>\n      <th>0</th>\n      <td>0</td>\n      <td>999</td>\n      <td>D-penicillamine</td>\n      <td>21532</td>\n      <td>M</td>\n      <td>N</td>\n      <td>N</td>\n      <td>N</td>\n      <td>N</td>\n      <td>2.3</td>\n      <td>316.0</td>\n      <td>3.35</td>\n      <td>172.0</td>\n      <td>1601.0</td>\n      <td>179.80</td>\n      <td>63.0</td>\n      <td>394.0</td>\n      <td>9.7</td>\n      <td>3.0</td>\n      <td>D</td>\n    </tr>\n    <tr>\n      <th>1</th>\n      <td>1</td>\n      <td>2574</td>\n      <td>Placebo</td>\n      <td>19237</td>\n      <td>F</td>\n      <td>N</td>\n      <td>N</td>\n      <td>N</td>\n      <td>N</td>\n      <td>0.9</td>\n      <td>364.0</td>\n      <td>3.54</td>\n      <td>63.0</td>\n      <td>1440.0</td>\n      <td>134.85</td>\n      <td>88.0</td>\n      <td>361.0</td>\n      <td>11.0</td>\n      <td>3.0</td>\n      <td>C</td>\n    </tr>\n    <tr>\n      <th>2</th>\n      <td>2</td>\n      <td>3428</td>\n      <td>Placebo</td>\n      <td>13727</td>\n      <td>F</td>\n      <td>N</td>\n      <td>Y</td>\n      <td>Y</td>\n      <td>Y</td>\n      <td>3.3</td>\n      <td>299.0</td>\n      <td>3.55</td>\n      <td>131.0</td>\n      <td>1029.0</td>\n      <td>119.35</td>\n      <td>50.0</td>\n      <td>199.0</td>\n      <td>11.7</td>\n      <td>4.0</td>\n      <td>D</td>\n    </tr>\n    <tr>\n      <th>3</th>\n      <td>3</td>\n      <td>2576</td>\n      <td>Placebo</td>\n      <td>18460</td>\n      <td>F</td>\n      <td>N</td>\n      <td>N</td>\n      <td>N</td>\n      <td>N</td>\n      <td>0.6</td>\n      <td>256.0</td>\n      <td>3.50</td>\n      <td>58.0</td>\n      <td>1653.0</td>\n      <td>71.30</td>\n      <td>96.0</td>\n      <td>269.0</td>\n      <td>10.7</td>\n      <td>3.0</td>\n      <td>C</td>\n    </tr>\n    <tr>\n      <th>4</th>\n      <td>4</td>\n      <td>788</td>\n      <td>Placebo</td>\n      <td>16658</td>\n      <td>F</td>\n      <td>N</td>\n      <td>Y</td>\n      <td>N</td>\n      <td>N</td>\n      <td>1.1</td>\n      <td>346.0</td>\n      <td>3.65</td>\n      <td>63.0</td>\n      <td>1181.0</td>\n      <td>125.55</td>\n      <td>96.0</td>\n      <td>298.0</td>\n      <td>10.6</td>\n      <td>4.0</td>\n      <td>C</td>\n    </tr>\n  </tbody>\n</table>\n</div>"
     },
     "execution_count": 4,
     "metadata": {},
     "output_type": "execute_result"
    }
   ],
   "source": [
    "df = pd.read_csv(\"data/train.csv\")\n",
    "\n",
    "row_count = df.shape[0]\n",
    "\n",
    "df.head()"
   ],
   "metadata": {
    "collapsed": false
   }
  },
  {
   "cell_type": "code",
   "execution_count": 8,
   "outputs": [
    {
     "data": {
      "text/plain": "790.5"
     },
     "execution_count": 8,
     "metadata": {},
     "output_type": "execute_result"
    }
   ],
   "source": [
    "row_count*0.1"
   ],
   "metadata": {
    "collapsed": false
   }
  },
  {
   "cell_type": "code",
   "execution_count": 5,
   "outputs": [
    {
     "data": {
      "text/plain": "   id  N_Days             Drug    Age Sex Ascites Hepatomegaly Spiders Edema  \\\n2   2    3428          Placebo  13727   F       N            Y       Y     Y   \n0   0     999  D-penicillamine  21532   M       N            N       N     N   \n\n   Bilirubin  Cholesterol  Albumin  Copper  Alk_Phos    SGOT  Tryglicerides  \\\n2        3.3        299.0     3.55   131.0    1029.0  119.35           50.0   \n0        2.3        316.0     3.35   172.0    1601.0  179.80           63.0   \n\n   Platelets  Prothrombin  Stage Status  \n2      199.0         11.7    4.0      D  \n0      394.0          9.7    3.0      D  ",
      "text/html": "<div>\n<style scoped>\n    .dataframe tbody tr th:only-of-type {\n        vertical-align: middle;\n    }\n\n    .dataframe tbody tr th {\n        vertical-align: top;\n    }\n\n    .dataframe thead th {\n        text-align: right;\n    }\n</style>\n<table border=\"1\" class=\"dataframe\">\n  <thead>\n    <tr style=\"text-align: right;\">\n      <th></th>\n      <th>id</th>\n      <th>N_Days</th>\n      <th>Drug</th>\n      <th>Age</th>\n      <th>Sex</th>\n      <th>Ascites</th>\n      <th>Hepatomegaly</th>\n      <th>Spiders</th>\n      <th>Edema</th>\n      <th>Bilirubin</th>\n      <th>Cholesterol</th>\n      <th>Albumin</th>\n      <th>Copper</th>\n      <th>Alk_Phos</th>\n      <th>SGOT</th>\n      <th>Tryglicerides</th>\n      <th>Platelets</th>\n      <th>Prothrombin</th>\n      <th>Stage</th>\n      <th>Status</th>\n    </tr>\n  </thead>\n  <tbody>\n    <tr>\n      <th>2</th>\n      <td>2</td>\n      <td>3428</td>\n      <td>Placebo</td>\n      <td>13727</td>\n      <td>F</td>\n      <td>N</td>\n      <td>Y</td>\n      <td>Y</td>\n      <td>Y</td>\n      <td>3.3</td>\n      <td>299.0</td>\n      <td>3.55</td>\n      <td>131.0</td>\n      <td>1029.0</td>\n      <td>119.35</td>\n      <td>50.0</td>\n      <td>199.0</td>\n      <td>11.7</td>\n      <td>4.0</td>\n      <td>D</td>\n    </tr>\n    <tr>\n      <th>0</th>\n      <td>0</td>\n      <td>999</td>\n      <td>D-penicillamine</td>\n      <td>21532</td>\n      <td>M</td>\n      <td>N</td>\n      <td>N</td>\n      <td>N</td>\n      <td>N</td>\n      <td>2.3</td>\n      <td>316.0</td>\n      <td>3.35</td>\n      <td>172.0</td>\n      <td>1601.0</td>\n      <td>179.80</td>\n      <td>63.0</td>\n      <td>394.0</td>\n      <td>9.7</td>\n      <td>3.0</td>\n      <td>D</td>\n    </tr>\n  </tbody>\n</table>\n</div>"
     },
     "execution_count": 5,
     "metadata": {},
     "output_type": "execute_result"
    }
   ],
   "source": [
    "chosen_idx1 = np.random.choice(row_count, replace=False, size=row_count*0.12)\n",
    "chosen_idx2 = np.random.choice(row_count, replace=False, size=row_count*0.03)\n",
    "chosen_idx3 = np.random.choice(row_count, replace=False, size=row_count*0.23)\n",
    "\n",
    "df[\"Column\"].iloc[chosen_idx1] = None\n",
    "df[\"Column\"].iloc[chosen_idx2] = None\n",
    "df[\"Column\"].iloc[chosen_idx3] = None"
   ],
   "metadata": {
    "collapsed": false
   }
  },
  {
   "cell_type": "code",
   "execution_count": 11,
   "outputs": [
    {
     "data": {
      "text/plain": "'D-penicillamine'"
     },
     "execution_count": 11,
     "metadata": {},
     "output_type": "execute_result"
    }
   ],
   "source": [
    "# df[\"Drug\"].iloc[0]"
   ],
   "metadata": {
    "collapsed": false
   }
  },
  {
   "cell_type": "code",
   "execution_count": 35,
   "outputs": [
    {
     "data": {
      "text/plain": "id               0\nN_Days           0\nDrug             1\nAge              0\nSex              0\nAscites          0\nHepatomegaly     0\nSpiders          0\nEdema            0\nBilirubin        0\nCholesterol      1\nAlbumin          0\nCopper           0\nAlk_Phos         0\nSGOT             0\nTryglicerides    0\nPlatelets        0\nProthrombin      0\nStage            0\nStatus           0\ndtype: int64"
     },
     "execution_count": 35,
     "metadata": {},
     "output_type": "execute_result"
    }
   ],
   "source": [
    "df.isna().sum()"
   ],
   "metadata": {
    "collapsed": false
   }
  }
 ],
 "metadata": {
  "kernelspec": {
   "display_name": "Python 3",
   "language": "python",
   "name": "python3"
  },
  "language_info": {
   "codemirror_mode": {
    "name": "ipython",
    "version": 2
   },
   "file_extension": ".py",
   "mimetype": "text/x-python",
   "name": "python",
   "nbconvert_exporter": "python",
   "pygments_lexer": "ipython2",
   "version": "2.7.6"
  }
 },
 "nbformat": 4,
 "nbformat_minor": 0
}

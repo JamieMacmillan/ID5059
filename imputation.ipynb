{
 "cells": [
  {
   "cell_type": "code",
   "execution_count": 5,
   "metadata": {
    "collapsed": true
   },
   "outputs": [],
   "source": [
    "import pandas as pd\n",
    "import numpy as np\n",
    "from sklearn.metrics import f1_score, mean_squared_error\n",
    "from math import sqrt"
   ]
  },
  {
   "cell_type": "code",
   "execution_count": 6,
   "outputs": [],
   "source": [
    "df = pd.read_csv(\"data/train.csv\")\n",
    "pd.options.mode.chained_assignment = None\n",
    "df_miss = df.copy()"
   ],
   "metadata": {
    "collapsed": false
   }
  },
  {
   "cell_type": "markdown",
   "source": [
    "# Removing values\n",
    "Created random missing values and saving true values to lists to test accuracy of imputation methods"
   ],
   "metadata": {
    "collapsed": false
   }
  },
  {
   "cell_type": "code",
   "execution_count": 7,
   "outputs": [],
   "source": [
    "np.random.seed(42)\n",
    "\n",
    "row_count = df_miss.shape[0]\n",
    "\n",
    "chosen_idx1 = list(np.random.choice(row_count, replace=False, size=round(row_count*0.12)))\n",
    "chosen_idx2 = list(np.random.choice(row_count, replace=False, size=round(row_count*0.03)))\n",
    "chosen_idx3 = list(np.random.choice(row_count, replace=False, size=round(row_count*0.23)))\n",
    "\n",
    "df_miss[\"Hepatomegaly\"].iloc[chosen_idx1] = None\n",
    "df_miss[\"Cholesterol\"].iloc[chosen_idx2] = None\n",
    "df_miss[\"Copper\"].iloc[chosen_idx3] = None\n",
    "\n",
    "hep_true = df[\"Hepatomegaly\"].iloc[chosen_idx1].tolist()\n",
    "chol_true = df[\"Cholesterol\"].iloc[chosen_idx2].tolist()\n",
    "cop_true = df[\"Copper\"].iloc[chosen_idx3].tolist()"
   ],
   "metadata": {
    "collapsed": false
   }
  },
  {
   "cell_type": "code",
   "execution_count": 8,
   "outputs": [
    {
     "data": {
      "text/plain": "id                  0\nN_Days              0\nDrug                0\nAge                 0\nSex                 0\nAscites             0\nHepatomegaly      949\nSpiders             0\nEdema               0\nBilirubin           0\nCholesterol       237\nAlbumin             0\nCopper           1818\nAlk_Phos            0\nSGOT                0\nTryglicerides       0\nPlatelets           0\nProthrombin         0\nStage               0\nStatus              0\ndtype: int64"
     },
     "execution_count": 8,
     "metadata": {},
     "output_type": "execute_result"
    }
   ],
   "source": [
    "df_miss.isna().sum()"
   ],
   "metadata": {
    "collapsed": false
   }
  },
  {
   "cell_type": "markdown",
   "source": [
    "# Imputing values"
   ],
   "metadata": {
    "collapsed": false
   }
  },
  {
   "cell_type": "code",
   "execution_count": 9,
   "outputs": [],
   "source": [
    "df_imp1 = df_miss.copy()\n",
    "df_imp2 = df_miss.copy()\n",
    "df_imp3 = df_miss.copy()"
   ],
   "metadata": {
    "collapsed": false
   }
  },
  {
   "cell_type": "markdown",
   "source": [
    "For the first imputation method I simply took the mode of the categorical value and the mean of the numerical values"
   ],
   "metadata": {
    "collapsed": false
   }
  },
  {
   "cell_type": "code",
   "execution_count": 10,
   "outputs": [
    {
     "data": {
      "text/plain": "id               0\nN_Days           0\nDrug             0\nAge              0\nSex              0\nAscites          0\nHepatomegaly     0\nSpiders          0\nEdema            0\nBilirubin        0\nCholesterol      0\nAlbumin          0\nCopper           0\nAlk_Phos         0\nSGOT             0\nTryglicerides    0\nPlatelets        0\nProthrombin      0\nStage            0\nStatus           0\ndtype: int64"
     },
     "execution_count": 10,
     "metadata": {},
     "output_type": "execute_result"
    }
   ],
   "source": [
    "df_imp1[\"Hepatomegaly\"] = df_imp1[\"Hepatomegaly\"].fillna(df_imp1[\"Hepatomegaly\"].mode().iat[0])\n",
    "df_imp1[\"Cholesterol\"] = df_imp1[\"Cholesterol\"].fillna(df_imp1[\"Cholesterol\"].mean())\n",
    "df_imp1[\"Copper\"] = df_imp1[\"Copper\"].fillna(df_imp1[\"Copper\"].mean())\n",
    "\n",
    "hep_pred1 = df_imp1[\"Hepatomegaly\"].iloc[chosen_idx1].tolist()\n",
    "chol_pred1 = df_imp1[\"Cholesterol\"].iloc[chosen_idx2].tolist()\n",
    "cop_pred1 = df_imp1[\"Copper\"].iloc[chosen_idx3].tolist()\n",
    "\n",
    "df_imp1.isna().sum()"
   ],
   "metadata": {
    "collapsed": false
   }
  },
  {
   "cell_type": "code",
   "execution_count": null,
   "outputs": [],
   "source": [],
   "metadata": {
    "collapsed": false
   }
  },
  {
   "cell_type": "code",
   "execution_count": 20,
   "outputs": [
    {
     "name": "stdout",
     "output_type": "stream",
     "text": [
      "Hepatomgegaly F1 Score: 0.6586572438162545\n",
      "Cholesterol RMSE Score: 162.25561604094258\n",
      "Copper RMSE Score: 77.15622803998464\n"
     ]
    }
   ],
   "source": [
    "hep_score1 = f1_score(hep_true, hep_pred1, pos_label=\"Y\")\n",
    "chol_score1 = sqrt(mean_squared_error(chol_true, chol_pred1))\n",
    "cop_score1 = sqrt(mean_squared_error(cop_true, cop_pred1))\n",
    "\n",
    "print(f\"Hepatomgegaly F1 Score: {hep_score1}\")\n",
    "print(f\"Cholesterol RMSE Score: {chol_score1}\")\n",
    "print(f\"Copper RMSE Score: {cop_score1}\")"
   ],
   "metadata": {
    "collapsed": false
   }
  },
  {
   "cell_type": "code",
   "execution_count": null,
   "outputs": [],
   "source": [],
   "metadata": {
    "collapsed": false
   }
  }
 ],
 "metadata": {
  "kernelspec": {
   "display_name": "Python 3",
   "language": "python",
   "name": "python3"
  },
  "language_info": {
   "codemirror_mode": {
    "name": "ipython",
    "version": 2
   },
   "file_extension": ".py",
   "mimetype": "text/x-python",
   "name": "python",
   "nbconvert_exporter": "python",
   "pygments_lexer": "ipython2",
   "version": "2.7.6"
  }
 },
 "nbformat": 4,
 "nbformat_minor": 0
}
